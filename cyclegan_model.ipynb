{
 "cells": [
  {
   "cell_type": "markdown",
   "id": "0d13d0e2",
   "metadata": {},
   "source": [
    "# Use the CycleGan Model for Summer2Winter Project"
   ]
  },
  {
   "cell_type": "markdown",
   "id": "f7b64763",
   "metadata": {},
   "source": []
  }
 ],
 "metadata": {
  "language_info": {
   "name": "python"
  }
 },
 "nbformat": 4,
 "nbformat_minor": 5
}
